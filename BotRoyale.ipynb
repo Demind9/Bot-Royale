{
 "cells": [
  {
   "cell_type": "markdown",
   "metadata": {},
   "source": [
    "# Project Description"
   ]
  },
  {
   "cell_type": "markdown",
   "metadata": {},
   "source": [
    "My project expands upon A4 Artificial Agents.  In my project, I expand upon the functionality of the bot classes and play_board().  Additionally, I have implemented a new bot_royale function that turns the bots against each other in a last-man-standing kind of scenario.\n",
    "\n",
    "Specific additions to the play_board function (now play_board_revised()) include implementation of walls, changing the play board from a giant list to a numpy char array, and accomodating for different start positions of the bots (including resetting their start positions to [0,0] if in an invalid location).\n",
    "\n",
    "Additions to the bot classes include adding the ability to choose their starting position when creating the bot, adding the ability to name the bots, and updating them to move properly with walls on the board. They also now keep track of the play grid, which opens up possibilities for more complex additions later on (such as making power-ups like in pacman or interacting with a player-controlled character).\n",
    "\n",
    "The bot_royale function is similar to play_board_revised, but pits the bots against each other.  They randomly explore until they land on the same square (they can still pass through each other however).  Upon meeting another bot, both are killed off and removed from the play board.  To prevent them all colliding at the start, the function also spaces out the start positions of the bots before beginning the royale.\n",
    "\n",
    "Lastly, for the walls, there are three preset variations, including a random option, an H-shaped option, and a +-shaped option.  In order to select these variations, simply set walls equal to 'rand', 'H', or 'plus' in play_board_revised() or bot_royale()"
   ]
  },
  {
   "cell_type": "markdown",
   "metadata": {},
   "source": [
    "## Project Code\n",
    "\n",
    "If it makes sense for your project, you can have code and outputs here in the notebook as well."
   ]
  },
  {
   "cell_type": "code",
   "execution_count": 1,
   "metadata": {
    "scrolled": true
   },
   "outputs": [],
   "source": [
    "from my_module.functions import play_board_revised, bot_royale\n",
    "from my_module.classes import Bot, WanderBot, ExploreBot, TeleportBot\n",
    "from my_module.test_functions import tests_generate_walls, tests_teleport_when_enclosed"
   ]
  },
  {
   "cell_type": "code",
   "execution_count": 2,
   "metadata": {},
   "outputs": [
    {
     "name": "stdout",
     "output_type": "stream",
     "text": [
      ". . . . . . . . . . . ѧ . . . . . . . . . . . . .\n",
      ". - - . - - . . - . - - . . . . . - . - . . - . .\n",
      ". . - . . - . . . . . . . . . - - - - - . . ᚖ . .\n",
      ". . . - . . . - . . . . - - - - - . . - . . . - .\n",
      ". - . - . . . . . . . - . . - - . - . . . . - . .\n",
      ". . ѧ . . - - . - . - . . - . . - . . - . . . . ж\n",
      ". . - . - . . . - . . - - . . . . - . . . . . - .\n",
      "ж . - . . . . . . - . - - . - . . - . . . - . . .\n",
      ". - . . . ᚖ - . . - . . - - . . . - . . - - . . .\n",
      ". - - . - - . . . . - . - - . . - . - . . . - . .\n",
      ". - . . - - . . . - . - . - . . . - - - . . . . .\n",
      ". . . . . . . . . - - - . - - - . - - - - - - . .\n",
      ". - - . - . . . - . - . - - . . - . . - . - . . .\n",
      ". - - - - . - . - . - . - - . . . . . . . - . . .\n",
      ". . . . . . . . - - - . . . . - - . . . . - . . .\n",
      ". . . . - - . - . - . - . - - - . . - - . . . . .\n",
      ". . . . . . - . . . . . . . . - - . . - - . . . .\n",
      ". . - . - . . - . - . - . - . . . . . - . - . . .\n",
      ". . . . . - - . - - - - . - . . - . - - . - . - .\n",
      "ѧ . . . . . . . . . . . . - - . . . . . - . - . .\n",
      ". . - . . . . . . . - . . . . . - . . . - . . . .\n",
      ". - - - - . - . . . - - - . - . - - . - - . - . .\n",
      ". . . . . . - . - . . . - - - . - . . . - . . . .\n",
      ". - . . . . . - - . . . . . . . . - . . . . - . .\n",
      ". . . . . . . . . ж . . . . . . . . . . . . . . .\n"
     ]
    }
   ],
   "source": [
    "bots = [WanderBot(character=1078, startpos=[40,40]), WanderBot(character=1078, startpos=[0,24]),\n",
    "        WanderBot(character=1078, startpos=[24,0]), ExploreBot(character=1127), ExploreBot(character=1127),\n",
    "        ExploreBot(character=1127), TeleportBot(character=5782), TeleportBot(character=5782, startpos=[24,24])]\n",
    "play_board_revised(bots, grid_size = 25, n_iter = 50, walls='rand')"
   ]
  },
  {
   "cell_type": "code",
   "execution_count": 3,
   "metadata": {},
   "outputs": [
    {
     "name": "stdout",
     "output_type": "stream",
     "text": [
      ". . . . . . . . . . . . . . .\n",
      ". - - - - - . . . - - - - - .\n",
      ". - - - - - . . . - - - - - .\n",
      ". - - - - - . . . - - - - - .\n",
      ". - - - - - . . . - - - - - .\n",
      ". - - - - - . . . - - - - - .\n",
      ". . . . . . . . . . . . . . .\n",
      ". . . . . . . . . . . . . . .\n",
      ". . . . . . . . . . . . . . .\n",
      ". - - - - - . . . - - - - - .\n",
      ". - - - - - ж . . - - - - - .\n",
      ". - - - - - . . . - - - - - .\n",
      ". - - - - - . . . - - - - - .\n",
      ". - - - - - . . . - - - - - .\n",
      ". . . . . . . . . . . . . . .\n",
      "Bob won!\n"
     ]
    }
   ],
   "source": [
    "battling_bots = [WanderBot(character = 1078, name='Billy'), WanderBot(character = 1078, name='Bob'),\n",
    "        WanderBot(character = 1078, name=\"Joe\"), ExploreBot(character = 1127, name='Jerry'), ExploreBot(character = 1127),\n",
    "        ExploreBot(character = 1127, name='Larry'), TeleportBot(character = 5782, name='Telly')]\n",
    "\n",
    "#NOTE: bot_royale works best with an odd number of bots, otherwise, it is more likely than not that the last two bots will\n",
    "#end up in a tie after clashing with each other\n",
    "bot_royale(battling_bots, walls='plus')"
   ]
  },
  {
   "cell_type": "code",
   "execution_count": 4,
   "metadata": {
    "scrolled": true
   },
   "outputs": [
    {
     "name": "stdout",
     "output_type": "stream",
     "text": [
      "ᚖ - .\n",
      "- . -\n",
      ". - .\n"
     ]
    }
   ],
   "source": [
    "#Some tests that worked best in Jupyter Notebook\n",
    "#Feel free to uncomment+play around with them\n",
    "\n",
    "#tests_generate_walls('H', grid_size=30)\n",
    "#tests_teleport_when_enclosed()"
   ]
  },
  {
   "cell_type": "markdown",
   "metadata": {},
   "source": [
    "My python background includes a little bit of required coding in middle school which I had since forgotten.  This class was my first reintroduction to python years later.  I wasn't entirely sure what to do but wanted to push myself, so I just tried to expand off of A4, which I found to be the most interesting of the assignments.\n",
    "\n",
    "I knew that I wanted to add walls so I did that immediatelly.  After, I thought it would be cool to create a player controlled bot, but after beginning to delve into Getch and how it worked, quickly realized that was a bit too complicated for me (especially considering how many other projects I also had due this past week).  While the Getch stuff was a little discouraging, I still wanted to do more than just basic walls, so after to expanding on the walls as much as I could by making multiple wall generation styles, I shifted to the bot royale function.  Both the the wall generation and the royale challenged me to work with for loop indexing and with juggling positional values of the bots to get everything to interact properly.  The royale function also challanged me to come up with a way to remove bots from the play grid (which turned out to be surprisingly easy compared to the rest of the project).  Lastly, I rigourously tested the functions, accounting for all the edge cases that I could think of+find and adjusting my code accordingly.\n",
    "\n",
    "All in all though I had a great time making this project and really enjoyed managing a bunch of functions and classes into one big working program.  I'm excited to take more advanced python classes in the future!"
   ]
  }
 ],
 "metadata": {
  "kernelspec": {
   "display_name": "Python 3",
   "language": "python",
   "name": "python3"
  },
  "language_info": {
   "codemirror_mode": {
    "name": "ipython",
    "version": 3
   },
   "file_extension": ".py",
   "mimetype": "text/x-python",
   "name": "python",
   "nbconvert_exporter": "python",
   "pygments_lexer": "ipython3",
   "version": "3.8.3"
  }
 },
 "nbformat": 4,
 "nbformat_minor": 4
}
